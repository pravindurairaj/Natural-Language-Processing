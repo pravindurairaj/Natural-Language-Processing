{
 "cells": [
  {
   "cell_type": "markdown",
   "metadata": {
    "id": "2oP1uun77cIh"
   },
   "source": [
    "# Assignment 1\n",
    "\n",
    "This assignment will involve the creation of a spellchecking system and an evaluation of its performance. You may use the code snippets provided in Python for completing this or you may use the programming language or environment of your choice\n",
    "\n",
    "Please start by downloading the corpus `holbrook.txt` from Blackboard\n",
    "\n",
    "The file consists of lines of text, with one sentence per line. Errors in the line are marked with a `|` as follows\n",
    "\n",
    "    My siter|sister go|goes to Tonbury .\n",
    "    \n",
    "In this case the word 'siter' was corrected to 'sister' and the word 'go' was corrected to 'goes'.\n",
    "\n",
    "In some places in the corpus two words maybe corrected to a single word or one word to a multiple words. This is denoted in the data using underscores e.g.,\n",
    "\n",
    "    My Mum goes out some_times|sometimes .\n",
    "    \n",
    "For the purpose of this assignment you do not need to separate these words, but instead you may treat them like a single token.\n",
    "\n",
    "*Note: you may use any functions from NLTK to complete the assignment. It should not be necessary to use other libraries and so please consult with us if your solution involves any other external library. If you use any function from NLTK in Task 6 please include a brief description of this function and how it contributes to your solution.*"
   ]
  },
  {
   "cell_type": "markdown",
   "metadata": {
    "id": "TIVCSJV-7kDs"
   },
   "source": [
    "## Task 1 (10 Marks)\n",
    "\n",
    "Write a parser that can read all the lines of the file `holbrook.txt` and print out for each line the original (misspelled) text, the corrected text and the indexes of any changes. The indexes refers to the index of the words in the sentence. In the example given, there is only an error in the 10th word and so the list of indexes is [9]. It is not necessary to analyze where the error occurs inside the word.\n",
    "\n",
    "Then split your data into a test set of 100 lines and a training set."
   ]
  },
  {
   "cell_type": "code",
   "execution_count": 15,
   "metadata": {
    "id": "RznCZ1mw7mfk"
   },
   "outputs": [],
   "source": [
    "lines = open(\"holbrook.txt\").readlines()\n",
    "data = []\n",
    "# Write your code here\n",
    "from nltk.tokenize import word_tokenize\n",
    "\n",
    "for line in lines:\n",
    "    original=[]\n",
    "    corrected=[]\n",
    "    indexes=[]\n",
    "    tokenized=word_tokenize(line)\n",
    "    #print(tokenized)\n",
    "    for word_count,word in enumerate(tokenized):\n",
    "        if '|' in word:\n",
    "            original.append(word.split('|')[0])\n",
    "            corrected.append(word.split('|')[1])\n",
    "            indexes.append(word_count)\n",
    "        else:\n",
    "            original.append(word)\n",
    "            corrected.append(word)\n",
    "    data.append({'original':original,'corrected':corrected,'indexes':indexes})    \n",
    "          \n",
    "assert(data[2] == {\n",
    "   'original': ['I', 'have', 'four', 'in', 'my', 'Family', 'Dad', 'Mum', 'and', 'siter', '.'], \n",
    "   'corrected': ['I', 'have', 'four', 'in', 'my', 'Family', 'Dad', 'Mum', 'and', 'sister', '.'], \n",
    "   'indexes': [9]\n",
    "})"
   ]
  },
  {
   "cell_type": "markdown",
   "metadata": {
    "id": "eRSX4I0H7pSC"
   },
   "source": [
    "The counts and assertions given in the following sections are based on splitting the training and test set as follows"
   ]
  },
  {
   "cell_type": "code",
   "execution_count": 16,
   "metadata": {
    "id": "Kt9aR2Gy7p1C"
   },
   "outputs": [],
   "source": [
    "test = data[:100]\n",
    "train = data[100:]"
   ]
  },
  {
   "cell_type": "markdown",
   "metadata": {
    "id": "hm5JL7cH7sLK"
   },
   "source": [
    "## **Task 2** (10 Marks): \n",
    "Calculate the frequency (number of occurrences), *ignoring case*, of all words and their unigram probability from the corrected *training* sentences.\n",
    "\n",
    "*Hint: use `Counter` to implement this so it may be called many times*"
   ]
  },
  {
   "cell_type": "code",
   "execution_count": 17,
   "metadata": {
    "id": "7ge0uHS-7uEK"
   },
   "outputs": [],
   "source": [
    "#Creating lits of all correct words\n",
    "train_corrected=[letter['corrected'] for letter in train]\n",
    "\n",
    "from collections import Counter\n",
    "word_list=[]\n",
    "for sentence in train_corrected:\n",
    "    for i in sentence:\n",
    "        word_list.append(i.lower())\n",
    "        \n",
    "def unigram(word):\n",
    "    # Write your code here.\n",
    "    word_freq=Counter(word_list)\n",
    "    return word_freq[word]\n",
    "    \n",
    "def prob(word):\n",
    "    # Write your code here.\n",
    "    return (unigram(word)/len(word_list))\n",
    "\n",
    "# Test your code with the following\n",
    "assert(unigram(\"me\")==87)"
   ]
  },
  {
   "cell_type": "markdown",
   "metadata": {
    "id": "w8r8QYj78GPK"
   },
   "source": [
    "## **Task 3** (15 Marks): \n",
    "[Edit distance](https://en.wikipedia.org/wiki/Edit_distance) is a method that calculates how similar two strings are to one another by counting the minimum number of operations required to transform one string into the other. There is a built-in implementation in NLTK that works as follows:\n"
   ]
  },
  {
   "cell_type": "code",
   "execution_count": 18,
   "metadata": {
    "colab": {
     "base_uri": "https://localhost:8080/",
     "height": 35
    },
    "executionInfo": {
     "elapsed": 956,
     "status": "ok",
     "timestamp": 1536070558621,
     "user": {
      "displayName": "John McCrae",
      "photoUrl": "//lh3.googleusercontent.com/-whXIBV_wL0Y/AAAAAAAAAAI/AAAAAAAAATE/-2hfaPZsyHM/s50-c-k-no/photo.jpg",
      "userId": "102173405218988557336"
     },
     "user_tz": -60
    },
    "id": "SV9Mu8P38IQE",
    "outputId": "9f29e22b-0f8b-4b92-9d5f-fcde3efec970"
   },
   "outputs": [
    {
     "name": "stdout",
     "output_type": "stream",
     "text": [
      "1\n"
     ]
    }
   ],
   "source": [
    "from nltk.metrics.distance import edit_distance\n",
    "\n",
    "# Edit distance returns the number of changes to transform one word to another\n",
    "print(edit_distance(\"minde\", \"mind\"))"
   ]
  },
  {
   "cell_type": "markdown",
   "metadata": {
    "id": "Hm46Lbiz8K8M"
   },
   "source": [
    "Write a function that calculates all words with *minimal* edit distance to the misspelled word. You should do this as follows\n",
    "\n",
    "1. Collect the set of all unique tokens in `train`\n",
    "2. Find the minimal edit distance, that is the lowest value for the function `edit_distance` between `token` and a word in `train`\n",
    "3. Output all unique words in `train` that have this same (minimal) `edit_distance` value\n",
    "\n",
    "*Do not implement edit distance, use the built-in NLTK function `edit_distance`*"
   ]
  },
  {
   "cell_type": "code",
   "execution_count": 19,
   "metadata": {
    "id": "HoilAmFW8PCb"
   },
   "outputs": [],
   "source": [
    "unique_set=[]\n",
    "for word_list in train_corrected:\n",
    "    unique_set.extend(set(word_list))\n",
    "unique_set=set(unique_set)\n",
    "#     for each_word in word_list:\n",
    "#         unique_set.add(each_word)\n",
    "def get_candidates(token):\n",
    "    # Write your code here.\n",
    "    my_dict=dict()\n",
    "    dist_list=[]\n",
    "    for my_word in unique_set:\n",
    "        my_dict[my_word]=edit_distance(token,my_word)\n",
    "    min_distance=(min(my_dict.values()))\n",
    "    for key,value in my_dict.items():\n",
    "        if value==min_distance:\n",
    "            dist_list.append(key)    \n",
    "    return sorted(dist_list,reverse=True)\n",
    "# Test your code as follows\n",
    "assert get_candidates(\"minde\") == ['mine', 'mind']"
   ]
  },
  {
   "cell_type": "markdown",
   "metadata": {
    "id": "RGY-eCkN8TIM"
   },
   "source": [
    "## Task 4 (15 Marks):\n",
    "\n",
    "Write a function that takes a (misspelled) sentence and returns the corrected version of that sentence. The system should scan the sentence for words that are not in the dictionary (set of unique words in the training set) and for each word that is not in the dictionary choose a word in the dictionary that has minimal edit distance and has the highest *unigram probability*. \n",
    "\n",
    "*Your solution to this should involve `get_candidates`*\n"
   ]
  },
  {
   "cell_type": "code",
   "execution_count": 20,
   "metadata": {
    "id": "dIGKE4_P8WGP"
   },
   "outputs": [],
   "source": [
    "def correct(sentence):\n",
    "    # Write your code here\n",
    "    final_sentence=[]\n",
    "    tmp_dict=dict()\n",
    "    tmp=[]\n",
    "    for i in sentence:    \n",
    "        if i not in unique_set:\n",
    "            tmp=get_candidates(i)\n",
    "            for j in tmp:\n",
    "                tmp_dict[j]=prob(j)\n",
    "            final_word=max(tmp_dict,key=tmp_dict.get)\n",
    "            final_sentence.append(final_word)\n",
    "        else:\n",
    "            final_sentence.append(i)\n",
    "    return final_sentence\n",
    "# assert(correct([\"this\",\"whitr\",\"cat\"]) == ['this','white','cat']) "
   ]
  },
  {
   "cell_type": "markdown",
   "metadata": {
    "id": "oG7jC6au8kka"
   },
   "source": [
    "## **Task 5** (10 Marks): \n",
    "Using the test corpus evaluate the *accuracy* of your method, i.e., how many words from your system's output match the corrected sentence (you should count words that are already spelled correctly and not changed by the system)."
   ]
  },
  {
   "cell_type": "code",
   "execution_count": 21,
   "metadata": {
    "colab": {
     "base_uri": "https://localhost:8080/",
     "height": 35
    },
    "executionInfo": {
     "elapsed": 539,
     "status": "ok",
     "timestamp": 1536071822989,
     "user": {
      "displayName": "John McCrae",
      "photoUrl": "//lh3.googleusercontent.com/-whXIBV_wL0Y/AAAAAAAAAAI/AAAAAAAAATE/-2hfaPZsyHM/s50-c-k-no/photo.jpg",
      "userId": "102173405218988557336"
     },
     "user_tz": -60
    },
    "id": "HSXTQypR8mdR",
    "outputId": "853813e4-d71b-42a7-8e96-68d038457628"
   },
   "outputs": [
    {
     "data": {
      "text/plain": [
       "80.80985915492957"
      ]
     },
     "execution_count": 21,
     "metadata": {},
     "output_type": "execute_result"
    }
   ],
   "source": [
    "def accuracy(test):\n",
    "    # Write your code here\n",
    "    original_list=[]\n",
    "    corrected_list=[]\n",
    "    for i in test:\n",
    "        original_list.extend(i['original'])\n",
    "        corrected_list.extend(i['corrected'])    \n",
    "    correct_original_list=correct(original_list)       \n",
    "    count=0\n",
    "    for i in range(0,len(original_list)):\n",
    "        if original_list[i]==correct_original_list[i]:\n",
    "            count+=1\n",
    "    return ((count/len(original_list))*100)\n",
    "accuracy(test)"
   ]
  },
  {
   "cell_type": "markdown",
   "metadata": {
    "id": "9b-r2JzD8_Zh"
   },
   "source": [
    "## **Task 6 (35 Marks):**\n",
    "\n",
    "Consider a modification to your algorithm that would improve the accuracy of the algorithm developed in Task 3 and 4\n",
    "\n",
    "* You may resources beyond those provided here.\n",
    "* You must **not use the test data** in this task.\n",
    "* Provide a short text describing what you intend to do and why. \n",
    "* Full marks for this section may be obtained without an implementation, but an implementation is preferred.\n",
    "* Your implementation should not consist of more than 50 lines of code\n",
    "\n",
    "Please note this task is marked according to: demonstration of knowledge from the lectures (10), originality and appropriateness of solution (10), completeness of description (10) and technical correctness (5)\n"
   ]
  },
  {
   "cell_type": "code",
   "execution_count": 22,
   "metadata": {},
   "outputs": [],
   "source": [
    "from pyjarowinkler import distance\n",
    "def jaro_distance(checker):\n",
    "    j_dict=dict()\n",
    "    j_list=[]\n",
    "    for w in unique_set:\n",
    "        if w != \"\":\n",
    "            j_dict[w] = distance.get_jaro_distance(checker,w,winkler=True,scaling=0.1)\n",
    "    max_distance=(max(j_dict.values()))\n",
    "    for key,value in j_dict.items():\n",
    "        if value==max_distance:\n",
    "            j_list.append(key)    \n",
    "    return j_list\n",
    "# jaro_distance(\"mind\")"
   ]
  },
  {
   "cell_type": "markdown",
   "metadata": {},
   "source": [
    "**Approach**\n",
    "\n",
    "The lecture videos had multiple n-grams and edit distance implementation was already employed in the algorithm.\n",
    "Of the n-gram modelling, unigram probability seemed to be most suitable, so implemented the same along with jaro distance for finding word with minimum distance between two words.\n",
    "This technique calculates jaro-winkler similarity between both the string and gives more accuracy when two strings start with the same character.\n",
    "Jaro-Winker checks if the character of the string matches, order of the characters and gives similarity in the range from 0 to 1.\n",
    "Result 0 shows no similarity and 1 shows that the strings are equal.\n",
    "So, the list of words obtained from this algorithm are very less when compared to edit-distance as this algorithm gives continous values."
   ]
  },
  {
   "cell_type": "code",
   "execution_count": 23,
   "metadata": {},
   "outputs": [],
   "source": [
    "def jaro_correct(sentence):\n",
    "    final_sentence=[]\n",
    "    tmp_dict=dict()\n",
    "    tmp=[]\n",
    "    for i in sentence:    \n",
    "        if i not in unique_set:\n",
    "            tmp=jaro_distance(i)\n",
    "            for j in tmp:\n",
    "                tmp_dict[j]=prob(j)\n",
    "            final_word=max(tmp_dict,key=tmp_dict.get)\n",
    "            final_sentence.append(final_word)\n",
    "        else:\n",
    "            final_sentence.append(i)\n",
    "    return final_sentence\n",
    "#jaro_correct([\"this\",\"minde\",\"cat\"])"
   ]
  },
  {
   "cell_type": "markdown",
   "metadata": {},
   "source": [
    "**Checking Jaro-Similarity**\n",
    "\n",
    "In the above piece of code, I check if the word in the present in the cleaned training set.\n",
    "If the word if not present, the word is considered to be incorrect.\n",
    "Once the incorrect word is found, find the jaro-winkler similarity and check the unigram probability of the word. \n",
    "Finally, select the word with highest similarity and higher probabilty to replace the incorrect word."
   ]
  },
  {
   "cell_type": "markdown",
   "metadata": {
    "id": "GLzaC6D28sK9"
   },
   "source": [
    "## **Task 7 (5 Marks):**\n",
    "\n",
    "Repeat the evaluation (as in Task 5) of your new algorithm and show that it outperforms the algorithm from Task 3 and 4"
   ]
  },
  {
   "cell_type": "code",
   "execution_count": 25,
   "metadata": {
    "id": "Hw6PzwWn7iEo"
   },
   "outputs": [
    {
     "data": {
      "text/plain": [
       "81.42605633802818"
      ]
     },
     "execution_count": 25,
     "metadata": {},
     "output_type": "execute_result"
    }
   ],
   "source": [
    "def accuracy(test):\n",
    "    original_list=[]\n",
    "    corrected_list=[]\n",
    "    for i in test:\n",
    "        original_list.extend(i['original'])\n",
    "        corrected_list.extend(i['corrected'])        \n",
    "    original_list = [item.lower() for item in original_list]\n",
    "    corrected_list = [item.lower() for item in corrected_list]\n",
    "    correct_original_list=jaro_correct(original_list)\n",
    "    correct_original_list = [item.lower() for item in correct_original_list]\n",
    "    count=0\n",
    "    for i in range(0,len(original_list)):\n",
    "        if original_list[i]==correct_original_list[i]:\n",
    "            count+=1\n",
    "    return ((count/len(original_list))*100)\n",
    "accuracy(test)"
   ]
  },
  {
   "cell_type": "markdown",
   "metadata": {},
   "source": [
    "**Accuracy**\n",
    "\n",
    "This implementation works best as the jaro-winkler algorithm reduces the number of word possibilty.\n",
    "As the number of replacement words obtained is less, the probability of single word replacement is high.\n",
    "Furthermore to improve the accuracy of the model, converting all words to lower and then compare to get more accurate results.\n",
    "Accuracy of 80.8 from the earlier model has improved to 81.42 percent.\n"
   ]
  }
 ],
 "metadata": {
  "colab": {
   "name": "CT5120/CT5146 - Assignment 1",
   "provenance": [
    {
     "file_id": "12crGPce24mcgITZPs7hU_9CPnLAcyIq6",
     "timestamp": 1603097790764
    }
   ]
  },
  "kernelspec": {
   "display_name": "Python 3",
   "language": "python",
   "name": "python3"
  },
  "language_info": {
   "codemirror_mode": {
    "name": "ipython",
    "version": 3
   },
   "file_extension": ".py",
   "mimetype": "text/x-python",
   "name": "python",
   "nbconvert_exporter": "python",
   "pygments_lexer": "ipython3",
   "version": "3.8.3"
  }
 },
 "nbformat": 4,
 "nbformat_minor": 1
}
